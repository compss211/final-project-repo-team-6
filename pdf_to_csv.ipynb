{
 "cells": [
  {
   "cell_type": "code",
   "execution_count": 28,
   "id": "33b47368",
   "metadata": {},
   "outputs": [],
   "source": [
    "import fitz\n",
    "import requests\n",
    "from io import BytesIO\n",
    "import pandas as pd"
   ]
  },
  {
   "cell_type": "code",
   "execution_count": 32,
   "id": "ef07ebb6",
   "metadata": {},
   "outputs": [],
   "source": [
    "df = pd.read_csv('/Users/sanyakhan/Downloads/pdf_test_to_parse - Sheet1.csv')\n",
    "pdf_urls = []\n",
    "\n",
    "for each in df['PDF URL']:\n",
    "    pdf_urls.append(each)\n",
    "    "
   ]
  },
  {
   "cell_type": "code",
   "execution_count": 33,
   "id": "daec63f1",
   "metadata": {},
   "outputs": [
    {
     "name": "stdout",
     "output_type": "stream",
     "text": [
      "Processing PDF 1/16\n",
      "Processing PDF 2/16\n",
      "Processing PDF 3/16\n",
      "Processing PDF 4/16\n",
      "Processing PDF 5/16\n",
      "Processing PDF 6/16\n",
      "Processing PDF 7/16\n",
      "Processing PDF 8/16\n",
      "Processing PDF 9/16\n",
      "Processing PDF 10/16\n",
      "Processing PDF 11/16\n",
      "Processing PDF 12/16\n",
      "Processing PDF 13/16\n",
      "Processing PDF 14/16\n",
      "Processing PDF 15/16\n",
      "Processing PDF 16/16\n",
      "done\n"
     ]
    }
   ],
   "source": [
    "def extract_text_from_url(url):\n",
    "    try:\n",
    "        response = requests.get(url)\n",
    "        response.raise_for_status()\n",
    "        pdf_stream = BytesIO(response.content)\n",
    "        doc = fitz.open(stream=pdf_stream, filetype=\"pdf\")\n",
    "\n",
    "        text = \"\"\n",
    "        for page in doc:\n",
    "            text += page.get_text(\"text\")\n",
    "\n",
    "        doc.close()\n",
    "        return text\n",
    "\n",
    "    except Exception as e:\n",
    "        print(f\"error\")\n",
    "        return None\n",
    "\n",
    "data = []\n",
    "\n",
    "for i, url in enumerate(pdf_urls, start=1):\n",
    "    print(f\"Processing PDF {i}/{len(pdf_urls)}\")\n",
    "    text = extract_text_from_url(url)\n",
    "    if text:\n",
    "        data.append({\"URL\": url, \"Text\": text})\n",
    "    else:\n",
    "        break\n",
    "\n",
    "\n",
    "df = pd.DataFrame(data)\n",
    "df.to_csv(\"pdf_texts2.csv\", index=False, encoding=\"utf-8\")\n",
    "\n",
    "print('done')"
   ]
  }
 ],
 "metadata": {
  "kernelspec": {
   "display_name": "base",
   "language": "python",
   "name": "python3"
  },
  "language_info": {
   "codemirror_mode": {
    "name": "ipython",
    "version": 3
   },
   "file_extension": ".py",
   "mimetype": "text/x-python",
   "name": "python",
   "nbconvert_exporter": "python",
   "pygments_lexer": "ipython3",
   "version": "3.13.5"
  }
 },
 "nbformat": 4,
 "nbformat_minor": 5
}
